{
 "cells": [
  {
   "cell_type": "markdown",
   "metadata": {},
   "source": [
    "### Part IV: Elastic Net Regression using Gradient Descent [30 points]"
   ]
  },
  {
   "cell_type": "code",
   "execution_count": 1,
   "metadata": {},
   "outputs": [],
   "source": [
    "import numpy as np\n",
    "import pandas as pd"
   ]
  },
  {
   "cell_type": "code",
   "execution_count": 13,
   "metadata": {},
   "outputs": [],
   "source": [
    "diamond_df = pd.read_csv('Data/noisy_datasets/diamond.csv')\n",
    "diamond_df = diamond_df.drop(columns=['Unnamed: 0'])"
   ]
  },
  {
   "cell_type": "code",
   "execution_count": 14,
   "metadata": {},
   "outputs": [
    {
     "name": "stdout",
     "output_type": "stream",
     "text": [
      "  carat      cut color clarity  average us salary  \\\n",
      "0  0.23    Ideal     E     SI2              31282   \n",
      "1  0.21  Premium     E     SI1              40049   \n",
      "2  0.23     Good     E     VS1              33517   \n",
      "3  0.29  Premium     I     VS2              38495   \n",
      "4  0.31     Good     J     SI2              34178   \n",
      "\n",
      "   number of diamonds mined (millions) depth table price     x     y     z  \n",
      "0                                 5.01  61.5    55   326  3.95  3.98  2.43  \n",
      "1                                 1.69  59.8    61   326  3.89  3.84  2.31  \n",
      "2                                 3.85  56.9    65   327  4.05  4.07  2.31  \n",
      "3                                 3.49  62.4    58   334   4.2  4.23  2.63  \n",
      "4                                 4.70  63.3    58   335  4.34  4.35  2.75  \n"
     ]
    }
   ],
   "source": [
    "print(diamond_df.head())"
   ]
  },
  {
   "cell_type": "code",
   "execution_count": 15,
   "metadata": {},
   "outputs": [
    {
     "data": {
      "text/html": [
       "<div>\n",
       "<style scoped>\n",
       "    .dataframe tbody tr th:only-of-type {\n",
       "        vertical-align: middle;\n",
       "    }\n",
       "\n",
       "    .dataframe tbody tr th {\n",
       "        vertical-align: top;\n",
       "    }\n",
       "\n",
       "    .dataframe thead th {\n",
       "        text-align: right;\n",
       "    }\n",
       "</style>\n",
       "<table border=\"1\" class=\"dataframe\">\n",
       "  <thead>\n",
       "    <tr style=\"text-align: right;\">\n",
       "      <th></th>\n",
       "      <th>average us salary</th>\n",
       "      <th>number of diamonds mined (millions)</th>\n",
       "    </tr>\n",
       "  </thead>\n",
       "  <tbody>\n",
       "    <tr>\n",
       "      <th>count</th>\n",
       "      <td>53940.000000</td>\n",
       "      <td>53940.000000</td>\n",
       "    </tr>\n",
       "    <tr>\n",
       "      <th>mean</th>\n",
       "      <td>39521.990100</td>\n",
       "      <td>2.902669</td>\n",
       "    </tr>\n",
       "    <tr>\n",
       "      <th>std</th>\n",
       "      <td>5486.892971</td>\n",
       "      <td>1.325985</td>\n",
       "    </tr>\n",
       "    <tr>\n",
       "      <th>min</th>\n",
       "      <td>30000.000000</td>\n",
       "      <td>0.600000</td>\n",
       "    </tr>\n",
       "    <tr>\n",
       "      <th>25%</th>\n",
       "      <td>34780.000000</td>\n",
       "      <td>1.750000</td>\n",
       "    </tr>\n",
       "    <tr>\n",
       "      <th>50%</th>\n",
       "      <td>39547.500000</td>\n",
       "      <td>2.910000</td>\n",
       "    </tr>\n",
       "    <tr>\n",
       "      <th>75%</th>\n",
       "      <td>44252.000000</td>\n",
       "      <td>4.050000</td>\n",
       "    </tr>\n",
       "    <tr>\n",
       "      <th>max</th>\n",
       "      <td>48999.000000</td>\n",
       "      <td>5.200000</td>\n",
       "    </tr>\n",
       "  </tbody>\n",
       "</table>\n",
       "</div>"
      ],
      "text/plain": [
       "       average us salary  number of diamonds mined (millions)\n",
       "count       53940.000000                         53940.000000\n",
       "mean        39521.990100                             2.902669\n",
       "std          5486.892971                             1.325985\n",
       "min         30000.000000                             0.600000\n",
       "25%         34780.000000                             1.750000\n",
       "50%         39547.500000                             2.910000\n",
       "75%         44252.000000                             4.050000\n",
       "max         48999.000000                             5.200000"
      ]
     },
     "execution_count": 15,
     "metadata": {},
     "output_type": "execute_result"
    }
   ],
   "source": [
    "diamond_df.describe()"
   ]
  },
  {
   "cell_type": "code",
   "execution_count": 17,
   "metadata": {},
   "outputs": [
    {
     "name": "stdout",
     "output_type": "stream",
     "text": [
      "Shape of the dataset is:  (53940, 12)\n"
     ]
    }
   ],
   "source": [
    "print(\"Shape of the dataset is: \", diamond_df.shape)"
   ]
  },
  {
   "cell_type": "code",
   "execution_count": 18,
   "metadata": {},
   "outputs": [
    {
     "data": {
      "text/plain": [
       "carat                                  1510\n",
       "cut                                    1293\n",
       "color                                  1512\n",
       "clarity                                 353\n",
       "average us salary                         0\n",
       "number of diamonds mined (millions)       0\n",
       "depth                                   694\n",
       "table                                  1542\n",
       "price                                  1583\n",
       "x                                      1526\n",
       "y                                      1221\n",
       "z                                      1433\n",
       "dtype: int64"
      ]
     },
     "execution_count": 18,
     "metadata": {},
     "output_type": "execute_result"
    }
   ],
   "source": [
    "diamond_df.isna().sum() #checking for empty columns"
   ]
  },
  {
   "cell_type": "code",
   "execution_count": null,
   "metadata": {},
   "outputs": [],
   "source": []
  }
 ],
 "metadata": {
  "kernelspec": {
   "display_name": "Python 3",
   "language": "python",
   "name": "python3"
  },
  "language_info": {
   "codemirror_mode": {
    "name": "ipython",
    "version": 3
   },
   "file_extension": ".py",
   "mimetype": "text/x-python",
   "name": "python",
   "nbconvert_exporter": "python",
   "pygments_lexer": "ipython3",
   "version": "3.9.2"
  }
 },
 "nbformat": 4,
 "nbformat_minor": 2
}
